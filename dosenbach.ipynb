{
 "cells": [
  {
   "cell_type": "code",
   "execution_count": null,
   "metadata": {
    "colab": {},
    "colab_type": "code",
    "id": "ZR9yVSoXiBNO"
   },
   "outputs": [],
   "source": [
    "!pip install --upgrade nilearn\n",
    "\n",
    "from nilearn.datasets import fetch_abide_pcp\n",
    "# Fetch the full data and update phenotypic data and cross_validation\n",
    "abide = fetch_abide_pcp(derivatives = ['rois_dosenbach160'], pipeline = 'cpac', quality_checked = False)\n",
    "\n",
    "y = abide.phenotypic['DX_GROUP']"
   ]
  },
  {
   "cell_type": "markdown",
   "metadata": {
    "colab_type": "text",
    "id": "mtwZ7bHeiqdz"
   },
   "source": [
    "=====================================\n",
    "Logistic Regression:\n",
    "====================================="
   ]
  },
  {
   "cell_type": "code",
   "execution_count": 4,
   "metadata": {
    "colab": {
     "base_uri": "https://localhost:8080/",
     "height": 267
    },
    "colab_type": "code",
    "executionInfo": {
     "elapsed": 106455,
     "status": "ok",
     "timestamp": 1544837427590,
     "user": {
      "displayName": "Xin Yang",
      "photoUrl": "",
      "userId": "18197329407244351054"
     },
     "user_tz": 360
    },
    "id": "cBqIC2R-iJwi",
    "outputId": "e7a1ae01-4c73-40e1-d187-cd32a7409e72"
   },
   "outputs": [
    {
     "name": "stdout",
     "output_type": "stream",
     "text": [
      "Fitting 5 folds for each of 3 candidates, totalling 15 fits\n"
     ]
    },
    {
     "name": "stderr",
     "output_type": "stream",
     "text": [
      "[Parallel(n_jobs=-1)]: Using backend LokyBackend with 2 concurrent workers.\n",
      "/usr/local/lib/python3.6/dist-packages/sklearn/externals/joblib/externals/loky/process_executor.py:706: UserWarning: A worker stopped while some jobs were given to the executor. This can be caused by a too short worker timeout or by a memory leak.\n",
      "  \"timeout or by a memory leak.\", UserWarning\n",
      "[Parallel(n_jobs=-1)]: Done  15 out of  15 | elapsed:  1.5min finished\n",
      "/usr/local/lib/python3.6/dist-packages/sklearn/linear_model/logistic.py:433: FutureWarning: Default solver will be changed to 'lbfgs' in 0.22. Specify a solver to silence this warning.\n",
      "  FutureWarning)\n"
     ]
    },
    {
     "name": "stdout",
     "output_type": "stream",
     "text": [
      "best_estimators: LogisticRegression(C=1000, class_weight=None, dual=False, fit_intercept=True,\n",
      "          intercept_scaling=1, max_iter=100, multi_class='warn',\n",
      "          n_jobs=None, penalty='l2', random_state=None, solver='warn',\n",
      "          tol=0.0001, verbose=0, warm_start=False)\n",
      "best_scores: 0.6318840579710145\n"
     ]
    },
    {
     "data": {
      "text/plain": [
       "\"\\nbest_estimators: LogisticRegression(C=0.1, class_weight=None, dual=False, fit_intercept=True,\\n          intercept_scaling=1, max_iter=100, multi_class='warn',\\n          n_jobs=None, penalty='l2', random_state=None, solver='warn',\\n          tol=0.0001, verbose=0, warm_start=False)\\nbest_scores: 0.6618357487922706\\n\""
      ]
     },
     "execution_count": 4,
     "metadata": {
      "tags": []
     },
     "output_type": "execute_result"
    }
   ],
   "source": [
    "measure = 'correlation'\n",
    "C = [100, 1000,10000]\n",
    "lr_params = {'C': C}\n",
    "\n",
    "from sklearn.model_selection import StratifiedKFold, GridSearchCV\n",
    "from sklearn.linear_model import LogisticRegression\n",
    "\n",
    "skf = StratifiedKFold(n_splits = 5, shuffle = True, random_state = 10)\n",
    "lr = LogisticRegression()\n",
    "\n",
    "y[y==2] = 0\n",
    "\n",
    "from nilearn.connectome import ConnectivityMeasure\n",
    "from nilearn.connectome import sym_matrix_to_vec\n",
    "\n",
    "conn_est = ConnectivityMeasure(kind = measure)\n",
    "conn_matrices = conn_est.fit_transform(abide.rois_dosenbach160)\n",
    "X = sym_matrix_to_vec(conn_matrices)\n",
    "\n",
    "gcv = GridSearchCV(lr, lr_params, n_jobs = -1, cv = skf, verbose = 1)\n",
    "gcv.fit(X, y)\n",
    "best_estimators = gcv.best_estimator_\n",
    "best_scores = gcv.best_score_\n",
    "\n",
    "\n",
    "print(\"best_estimators:\",best_estimators)\n",
    "print(\"best_scores:\",best_scores)\n",
    "\n",
    "'''\n",
    "best_estimators: LogisticRegression(C=1000, class_weight=None, dual=False, fit_intercept=True,\n",
    "          intercept_scaling=1, max_iter=100, multi_class='warn',\n",
    "          n_jobs=None, penalty='l2', random_state=None, solver='warn',\n",
    "          tol=0.0001, verbose=0, warm_start=False)\n",
    "best_scores: 0.6318840579710145\n",
    "'''"
   ]
  },
  {
   "cell_type": "code",
   "execution_count": 5,
   "metadata": {
    "colab": {
     "base_uri": "https://localhost:8080/",
     "height": 516
    },
    "colab_type": "code",
    "executionInfo": {
     "elapsed": 96211,
     "status": "ok",
     "timestamp": 1544837540316,
     "user": {
      "displayName": "Xin Yang",
      "photoUrl": "",
      "userId": "18197329407244351054"
     },
     "user_tz": 360
    },
    "id": "pIGvgSl7j8Ra",
    "outputId": "6a5f936e-5fbf-4da0-aa99-9cad0f9e51bc"
   },
   "outputs": [
    {
     "name": "stderr",
     "output_type": "stream",
     "text": [
      "[Parallel(n_jobs=1)]: Using backend SequentialBackend with 1 concurrent workers.\n",
      "/usr/local/lib/python3.6/dist-packages/sklearn/linear_model/logistic.py:433: FutureWarning: Default solver will be changed to 'lbfgs' in 0.22. Specify a solver to silence this warning.\n",
      "  FutureWarning)\n",
      "/usr/local/lib/python3.6/dist-packages/sklearn/linear_model/logistic.py:433: FutureWarning: Default solver will be changed to 'lbfgs' in 0.22. Specify a solver to silence this warning.\n",
      "  FutureWarning)\n",
      "/usr/local/lib/python3.6/dist-packages/sklearn/linear_model/logistic.py:433: FutureWarning: Default solver will be changed to 'lbfgs' in 0.22. Specify a solver to silence this warning.\n",
      "  FutureWarning)\n",
      "/usr/local/lib/python3.6/dist-packages/sklearn/linear_model/logistic.py:433: FutureWarning: Default solver will be changed to 'lbfgs' in 0.22. Specify a solver to silence this warning.\n",
      "  FutureWarning)\n",
      "/usr/local/lib/python3.6/dist-packages/sklearn/linear_model/logistic.py:433: FutureWarning: Default solver will be changed to 'lbfgs' in 0.22. Specify a solver to silence this warning.\n",
      "  FutureWarning)\n",
      "[Parallel(n_jobs=1)]: Done   5 out of   5 | elapsed:   48.1s finished\n",
      "[Parallel(n_jobs=1)]: Using backend SequentialBackend with 1 concurrent workers.\n",
      "/usr/local/lib/python3.6/dist-packages/sklearn/linear_model/logistic.py:433: FutureWarning: Default solver will be changed to 'lbfgs' in 0.22. Specify a solver to silence this warning.\n",
      "  FutureWarning)\n",
      "/usr/local/lib/python3.6/dist-packages/sklearn/linear_model/logistic.py:433: FutureWarning: Default solver will be changed to 'lbfgs' in 0.22. Specify a solver to silence this warning.\n",
      "  FutureWarning)\n",
      "/usr/local/lib/python3.6/dist-packages/sklearn/linear_model/logistic.py:433: FutureWarning: Default solver will be changed to 'lbfgs' in 0.22. Specify a solver to silence this warning.\n",
      "  FutureWarning)\n",
      "/usr/local/lib/python3.6/dist-packages/sklearn/linear_model/logistic.py:433: FutureWarning: Default solver will be changed to 'lbfgs' in 0.22. Specify a solver to silence this warning.\n",
      "  FutureWarning)\n",
      "/usr/local/lib/python3.6/dist-packages/sklearn/linear_model/logistic.py:433: FutureWarning: Default solver will be changed to 'lbfgs' in 0.22. Specify a solver to silence this warning.\n",
      "  FutureWarning)\n"
     ]
    },
    {
     "name": "stdout",
     "output_type": "stream",
     "text": [
      "cross_recall: 0.6158415841584158\n",
      "cross_precision: 0.6245201676176089\n"
     ]
    },
    {
     "name": "stderr",
     "output_type": "stream",
     "text": [
      "[Parallel(n_jobs=1)]: Done   5 out of   5 | elapsed:   47.8s finished\n"
     ]
    },
    {
     "data": {
      "text/plain": [
       "'\\ncross_recall: 0.6356435643564357\\ncross_precision: 0.6604963294651136\\n'"
      ]
     },
     "execution_count": 5,
     "metadata": {
      "tags": []
     },
     "output_type": "execute_result"
    }
   ],
   "source": [
    "from sklearn.model_selection import cross_val_score\n",
    "import numpy as np\n",
    "#best parameter for each measure\n",
    "lr = LogisticRegression(C = 1000)\n",
    "\n",
    "#recall == sensitivity\n",
    "recall = cross_val_score(lr, X, y, scoring = 'recall',cv = skf, verbose = 1)\n",
    "precision = cross_val_score(lr, X, y, scoring = 'precision',cv = skf, verbose = 1)\n",
    "    \n",
    "cross_recall = np.mean(recall)\n",
    "cross_precision = np.mean(precision)\n",
    "   \n",
    "print(\"cross_recall:\",cross_recall)\n",
    "print(\"cross_precision:\",cross_precision)  \n",
    "\n",
    "'''\n",
    "cross_recall: 0.6158415841584158\n",
    "cross_precision: 0.6245201676176089\n",
    "'''"
   ]
  },
  {
   "cell_type": "markdown",
   "metadata": {
    "colab_type": "text",
    "id": "Gf1ZVIDwlZtY"
   },
   "source": [
    "==============================================\n",
    "Ridge\n",
    "=============================================="
   ]
  },
  {
   "cell_type": "code",
   "execution_count": 7,
   "metadata": {
    "colab": {
     "base_uri": "https://localhost:8080/",
     "height": 178
    },
    "colab_type": "code",
    "executionInfo": {
     "elapsed": 19198,
     "status": "ok",
     "timestamp": 1544837721868,
     "user": {
      "displayName": "Xin Yang",
      "photoUrl": "",
      "userId": "18197329407244351054"
     },
     "user_tz": 360
    },
    "id": "B9i5_kVkk9Sg",
    "outputId": "2c70506c-a090-49f1-f623-108f6910df7b"
   },
   "outputs": [
    {
     "name": "stdout",
     "output_type": "stream",
     "text": [
      "Fitting 5 folds for each of 3 candidates, totalling 15 fits\n"
     ]
    },
    {
     "name": "stderr",
     "output_type": "stream",
     "text": [
      "[Parallel(n_jobs=-1)]: Using backend LokyBackend with 2 concurrent workers.\n",
      "[Parallel(n_jobs=-1)]: Done  15 out of  15 | elapsed:   15.2s finished\n"
     ]
    },
    {
     "name": "stdout",
     "output_type": "stream",
     "text": [
      "best_estimators: RidgeClassifier(alpha=100, class_weight=None, copy_X=True, fit_intercept=True,\n",
      "        max_iter=None, normalize=False, random_state=None, solver='auto',\n",
      "        tol=0.001)\n",
      "best_scores: 0.629951690821256\n"
     ]
    },
    {
     "data": {
      "text/plain": [
       "\"\\nbest_estimators: RidgeClassifier(alpha=100, class_weight=None, copy_X=True, fit_intercept=True,\\n        max_iter=None, normalize=False, random_state=None, solver='auto',\\n        tol=0.001)\\nbest_scores: 0.659903381642512\\n\""
      ]
     },
     "execution_count": 7,
     "metadata": {
      "tags": []
     },
     "output_type": "execute_result"
    }
   ],
   "source": [
    "measure = 'correlation'\n",
    "alpha = [10,100,1000]\n",
    "rc_params = {'alpha': alpha}\n",
    "\n",
    "from sklearn.model_selection import StratifiedKFold, GridSearchCV\n",
    "from sklearn.linear_model import RidgeClassifier\n",
    "\n",
    "\n",
    "skf = StratifiedKFold(n_splits = 5, shuffle = True, random_state = 10)\n",
    "rc = RidgeClassifier()\n",
    "\n",
    "y[y==2] = 0\n",
    "\n",
    "from nilearn.connectome import ConnectivityMeasure\n",
    "from nilearn.connectome import sym_matrix_to_vec\n",
    "\n",
    "conn_est = ConnectivityMeasure(kind = measure)\n",
    "conn_matrices = conn_est.fit_transform(abide.rois_dosenbach160)\n",
    "X = sym_matrix_to_vec(conn_matrices)\n",
    "\n",
    "gcv = GridSearchCV(rc, rc_params, n_jobs = -1, cv = skf, verbose = 1)\n",
    "gcv.fit(X, y)\n",
    "best_estimators = gcv.best_estimator_\n",
    "best_scores = gcv.best_score_\n",
    "\n",
    "\n",
    "print(\"best_estimators:\",best_estimators)\n",
    "print(\"best_scores:\",best_scores)\n",
    "\n",
    "'''\n",
    "best_estimators: RidgeClassifier(alpha=100, class_weight=None, copy_X=True, fit_intercept=True,\n",
    "        max_iter=None, normalize=False, random_state=None, solver='auto',\n",
    "        tol=0.001)\n",
    "best_scores: 0.629951690821256\n",
    "'''\n"
   ]
  },
  {
   "cell_type": "code",
   "execution_count": 8,
   "metadata": {
    "colab": {
     "base_uri": "https://localhost:8080/",
     "height": 141
    },
    "colab_type": "code",
    "executionInfo": {
     "elapsed": 9489,
     "status": "ok",
     "timestamp": 1544837749314,
     "user": {
      "displayName": "Xin Yang",
      "photoUrl": "",
      "userId": "18197329407244351054"
     },
     "user_tz": 360
    },
    "id": "oAHsjOgWltNv",
    "outputId": "06e0de4d-f661-4b0d-bbde-32dc44444514"
   },
   "outputs": [
    {
     "name": "stderr",
     "output_type": "stream",
     "text": [
      "[Parallel(n_jobs=1)]: Using backend SequentialBackend with 1 concurrent workers.\n",
      "[Parallel(n_jobs=1)]: Done   5 out of   5 | elapsed:    4.6s finished\n",
      "[Parallel(n_jobs=1)]: Using backend SequentialBackend with 1 concurrent workers.\n"
     ]
    },
    {
     "name": "stdout",
     "output_type": "stream",
     "text": [
      "cross_recall: 0.6178217821782178\n",
      "cross_precision: 0.6221976637793228\n"
     ]
    },
    {
     "name": "stderr",
     "output_type": "stream",
     "text": [
      "[Parallel(n_jobs=1)]: Done   5 out of   5 | elapsed:    4.5s finished\n"
     ]
    },
    {
     "data": {
      "text/plain": [
       "'\\ncross_recall: 0.6257425742574257\\ncross_precision: 0.661253353553753\\n'"
      ]
     },
     "execution_count": 8,
     "metadata": {
      "tags": []
     },
     "output_type": "execute_result"
    }
   ],
   "source": [
    "from sklearn.model_selection import cross_val_score\n",
    "import numpy as np\n",
    "#best parameter for each measure\n",
    "lr = RidgeClassifier(alpha=100)\n",
    "\n",
    "#recall == sensitivity\n",
    "recall = cross_val_score(lr, X, y, scoring = 'recall',cv = skf, verbose = 1)\n",
    "precision = cross_val_score(lr, X, y, scoring = 'precision',cv = skf, verbose = 1)\n",
    "    \n",
    "cross_recall = np.mean(recall)\n",
    "cross_precision = np.mean(precision)\n",
    "  \n",
    "print(\"cross_recall:\",cross_recall)\n",
    "print(\"cross_precision:\",cross_precision)\n",
    "\n",
    "'''\n",
    "cross_recall: 0.6178217821782178\n",
    "cross_precision: 0.6221976637793228\n",
    "'''"
   ]
  },
  {
   "cell_type": "markdown",
   "metadata": {
    "colab_type": "text",
    "id": "oP7ltw_vm-4p"
   },
   "source": [
    "===========================================\n",
    "linearSVC l2\n",
    "==========================================="
   ]
  },
  {
   "cell_type": "code",
   "execution_count": 10,
   "metadata": {
    "colab": {
     "base_uri": "https://localhost:8080/",
     "height": 232
    },
    "colab_type": "code",
    "executionInfo": {
     "elapsed": 98235,
     "status": "ok",
     "timestamp": 1544837950328,
     "user": {
      "displayName": "Xin Yang",
      "photoUrl": "",
      "userId": "18197329407244351054"
     },
     "user_tz": 360
    },
    "id": "RVKX_C4klusD",
    "outputId": "e380a3b5-f0d7-436f-96ba-21993c3b65ba"
   },
   "outputs": [
    {
     "name": "stdout",
     "output_type": "stream",
     "text": [
      "Fitting 5 folds for each of 3 candidates, totalling 15 fits\n"
     ]
    },
    {
     "name": "stderr",
     "output_type": "stream",
     "text": [
      "[Parallel(n_jobs=-1)]: Using backend LokyBackend with 2 concurrent workers.\n",
      "/usr/local/lib/python3.6/dist-packages/sklearn/externals/joblib/externals/loky/process_executor.py:706: UserWarning: A worker stopped while some jobs were given to the executor. This can be caused by a too short worker timeout or by a memory leak.\n",
      "  \"timeout or by a memory leak.\", UserWarning\n",
      "[Parallel(n_jobs=-1)]: Done  15 out of  15 | elapsed:  1.4min finished\n"
     ]
    },
    {
     "name": "stdout",
     "output_type": "stream",
     "text": [
      "best_estimators: LinearSVC(C=0.01, class_weight=None, dual=True, fit_intercept=True,\n",
      "     intercept_scaling=1, loss='squared_hinge', max_iter=1000,\n",
      "     multi_class='ovr', penalty='l2', random_state=None, tol=0.0001,\n",
      "     verbose=0)\n",
      "best_scores: 0.6347826086956522\n"
     ]
    },
    {
     "data": {
      "text/plain": [
       "\"\\nbest_estimators: LinearSVC(C=0.001, class_weight=None, dual=True, fit_intercept=True,\\n     intercept_scaling=1, loss='squared_hinge', max_iter=1000,\\n     multi_class='ovr', penalty='l2', random_state=None, tol=0.0001,\\n     verbose=0)\\nbest_scores: 0.6541062801932367\\n\""
      ]
     },
     "execution_count": 10,
     "metadata": {
      "tags": []
     },
     "output_type": "execute_result"
    }
   ],
   "source": [
    "measure = 'correlation'\n",
    "C = [0.001,0.01,0.1]\n",
    "svc_params = {'C': C}\n",
    "\n",
    "from sklearn.model_selection import StratifiedKFold, GridSearchCV\n",
    "from sklearn.svm import LinearSVC\n",
    "\n",
    "skf = StratifiedKFold(n_splits = 5, shuffle = True, random_state = 10)\n",
    "svc_l2 = LinearSVC()\n",
    "\n",
    "y[y==2] = 0\n",
    "\n",
    "from nilearn.connectome import ConnectivityMeasure\n",
    "from nilearn.connectome import sym_matrix_to_vec\n",
    "\n",
    "conn_est = ConnectivityMeasure(kind = measure)\n",
    "conn_matrices = conn_est.fit_transform(abide.rois_dosenbach160)\n",
    "X = sym_matrix_to_vec(conn_matrices)\n",
    "\n",
    "gcv = GridSearchCV(svc_l2, svc_params, n_jobs = -1, cv = skf, verbose = 1)\n",
    "gcv.fit(X, y)\n",
    "best_estimators = gcv.best_estimator_\n",
    "best_scores = gcv.best_score_\n",
    "\n",
    "print(\"best_estimators:\",best_estimators)\n",
    "print(\"best_scores:\",best_scores)\n",
    "\n",
    "'''\n",
    "best_estimators: LinearSVC(C=0.01, class_weight=None, dual=True, fit_intercept=True,\n",
    "     intercept_scaling=1, loss='squared_hinge', max_iter=1000,\n",
    "     multi_class='ovr', penalty='l2', random_state=None, tol=0.0001,\n",
    "     verbose=0)\n",
    "best_scores: 0.6347826086956522\n",
    "'''"
   ]
  },
  {
   "cell_type": "code",
   "execution_count": 11,
   "metadata": {
    "colab": {
     "base_uri": "https://localhost:8080/",
     "height": 141
    },
    "colab_type": "code",
    "executionInfo": {
     "elapsed": 85625,
     "status": "ok",
     "timestamp": 1544838055706,
     "user": {
      "displayName": "Xin Yang",
      "photoUrl": "",
      "userId": "18197329407244351054"
     },
     "user_tz": 360
    },
    "id": "Q4Va8vDDnXN9",
    "outputId": "683cfe7b-7eca-477b-e322-e35eaffe1c40"
   },
   "outputs": [
    {
     "name": "stderr",
     "output_type": "stream",
     "text": [
      "[Parallel(n_jobs=1)]: Using backend SequentialBackend with 1 concurrent workers.\n",
      "[Parallel(n_jobs=1)]: Done   5 out of   5 | elapsed:   42.7s finished\n",
      "[Parallel(n_jobs=1)]: Using backend SequentialBackend with 1 concurrent workers.\n"
     ]
    },
    {
     "name": "stdout",
     "output_type": "stream",
     "text": [
      "cross_recall: 0.6217821782178218\n",
      "cross_precision: 0.6273818170847735\n"
     ]
    },
    {
     "name": "stderr",
     "output_type": "stream",
     "text": [
      "[Parallel(n_jobs=1)]: Done   5 out of   5 | elapsed:   42.6s finished\n"
     ]
    },
    {
     "data": {
      "text/plain": [
       "'\\ncross_recall: 0.6138613861386139\\ncross_precision: 0.6567528434298621\\n'"
      ]
     },
     "execution_count": 11,
     "metadata": {
      "tags": []
     },
     "output_type": "execute_result"
    }
   ],
   "source": [
    "from sklearn.model_selection import cross_val_score\n",
    "import numpy as np\n",
    "#best parameter for each measure\n",
    "lr = LinearSVC(C=0.01)\n",
    "\n",
    "#recall == sensitivity\n",
    "recall = cross_val_score(lr, X, y, scoring = 'recall',cv = skf, verbose = 1)\n",
    "precision = cross_val_score(lr, X, y, scoring = 'precision',cv = skf, verbose = 1)\n",
    "    \n",
    "cross_recall = np.mean(recall)\n",
    "cross_precision = np.mean(precision)\n",
    "\n",
    "print(\"cross_recall:\",cross_recall)\n",
    "print(\"cross_precision:\",cross_precision)\n",
    "\n",
    "'''\n",
    "cross_recall: 0.6217821782178218\n",
    "cross_precision: 0.6273818170847735\n",
    "'''"
   ]
  },
  {
   "cell_type": "markdown",
   "metadata": {
    "colab_type": "text",
    "id": "Aexi90Nfvv2L"
   },
   "source": [
    "=====================================\n",
    "svm rbf\n",
    "====================================="
   ]
  },
  {
   "cell_type": "code",
   "execution_count": 12,
   "metadata": {
    "colab": {
     "base_uri": "https://localhost:8080/",
     "height": 196
    },
    "colab_type": "code",
    "executionInfo": {
     "elapsed": 318967,
     "status": "ok",
     "timestamp": 1544838415013,
     "user": {
      "displayName": "Xin Yang",
      "photoUrl": "",
      "userId": "18197329407244351054"
     },
     "user_tz": 360
    },
    "id": "Ys9V6fYVogfA",
    "outputId": "aef701e7-3a3b-414c-a3e0-f7a5cba1d9f0"
   },
   "outputs": [
    {
     "name": "stdout",
     "output_type": "stream",
     "text": [
      "Fitting 5 folds for each of 3 candidates, totalling 15 fits\n"
     ]
    },
    {
     "name": "stderr",
     "output_type": "stream",
     "text": [
      "[Parallel(n_jobs=-1)]: Using backend LokyBackend with 2 concurrent workers.\n",
      "[Parallel(n_jobs=-1)]: Done  15 out of  15 | elapsed:  4.9min finished\n"
     ]
    },
    {
     "name": "stdout",
     "output_type": "stream",
     "text": [
      "best_estimators: SVC(C=100, cache_size=200, class_weight=None, coef0=0.0,\n",
      "  decision_function_shape='ovr', degree=3, gamma='auto', kernel='rbf',\n",
      "  max_iter=-1, probability=False, random_state=None, shrinking=True,\n",
      "  tol=0.001, verbose=False)\n",
      "best_scores: 0.6309178743961352\n"
     ]
    },
    {
     "data": {
      "text/plain": [
       "\"\\nbest_estimators: SVC(C=100, cache_size=200, class_weight=None, coef0=0.0,\\n  decision_function_shape='ovr', degree=3, gamma='auto', kernel='rbf',\\n  max_iter=-1, probability=False, random_state=None, shrinking=True,\\n  tol=0.001, verbose=False)\\nbest_scores: 0.6560386473429952\\n\""
      ]
     },
     "execution_count": 12,
     "metadata": {
      "tags": []
     },
     "output_type": "execute_result"
    }
   ],
   "source": [
    "measure = 'correlation'\n",
    "C = [10,100,1000]\n",
    "svc_params = {'C': C}\n",
    "\n",
    "from sklearn.model_selection import StratifiedKFold, GridSearchCV\n",
    "from sklearn.svm import SVC\n",
    "\n",
    "skf = StratifiedKFold(n_splits = 5, shuffle = True, random_state = 10)\n",
    "svc_rbf = SVC(gamma='auto')\n",
    "\n",
    "y[y==2] = 0\n",
    "\n",
    "from nilearn.connectome import ConnectivityMeasure\n",
    "from nilearn.connectome import sym_matrix_to_vec\n",
    "\n",
    "conn_est = ConnectivityMeasure(kind = measure)\n",
    "conn_matrices = conn_est.fit_transform(abide.rois_dosenbach160)\n",
    "X = sym_matrix_to_vec(conn_matrices)\n",
    "\n",
    "gcv = GridSearchCV(svc_rbf, svc_params, n_jobs = -1, cv = skf, verbose = 1)\n",
    "gcv.fit(X, y)\n",
    "best_estimators = gcv.best_estimator_\n",
    "best_scores = gcv.best_score_\n",
    "\n",
    "print(\"best_estimators:\",best_estimators)\n",
    "print(\"best_scores:\",best_scores)\n",
    "\n",
    "'''\n",
    "best_estimators: SVC(C=100, cache_size=200, class_weight=None, coef0=0.0,\n",
    "  decision_function_shape='ovr', degree=3, gamma='auto', kernel='rbf',\n",
    "  max_iter=-1, probability=False, random_state=None, shrinking=True,\n",
    "  tol=0.001, verbose=False)\n",
    "best_scores: 0.6309178743961352\n",
    "'''"
   ]
  },
  {
   "cell_type": "code",
   "execution_count": 13,
   "metadata": {
    "colab": {
     "base_uri": "https://localhost:8080/",
     "height": 141
    },
    "colab_type": "code",
    "executionInfo": {
     "elapsed": 195402,
     "status": "ok",
     "timestamp": 1544838741713,
     "user": {
      "displayName": "Xin Yang",
      "photoUrl": "",
      "userId": "18197329407244351054"
     },
     "user_tz": 360
    },
    "id": "qcc_x-CQwM07",
    "outputId": "2aaced0f-4ac9-42a9-83ea-569c1cdddf18"
   },
   "outputs": [
    {
     "name": "stderr",
     "output_type": "stream",
     "text": [
      "[Parallel(n_jobs=1)]: Using backend SequentialBackend with 1 concurrent workers.\n",
      "[Parallel(n_jobs=1)]: Done   5 out of   5 | elapsed:  1.6min finished\n",
      "[Parallel(n_jobs=1)]: Using backend SequentialBackend with 1 concurrent workers.\n"
     ]
    },
    {
     "name": "stdout",
     "output_type": "stream",
     "text": [
      "cross_recall: 0.6257425742574257\n",
      "cross_precision: 0.6215951755262223\n"
     ]
    },
    {
     "name": "stderr",
     "output_type": "stream",
     "text": [
      "[Parallel(n_jobs=1)]: Done   5 out of   5 | elapsed:  1.6min finished\n"
     ]
    },
    {
     "data": {
      "text/plain": [
       "'\\ncross_recall: 0.6396039603960396\\ncross_precision: 0.6510164829335571\\n'"
      ]
     },
     "execution_count": 13,
     "metadata": {
      "tags": []
     },
     "output_type": "execute_result"
    }
   ],
   "source": [
    "from sklearn.model_selection import cross_val_score\n",
    "import numpy as np\n",
    "#best parameter for each measure\n",
    "lr = SVC(gamma='auto',C=100)\n",
    "\n",
    "#recall == sensitivity\n",
    "recall = cross_val_score(lr, X, y, scoring = 'recall',cv = skf, verbose = 1)\n",
    "precision = cross_val_score(lr, X, y, scoring = 'precision',cv = skf, verbose = 1)\n",
    "    \n",
    "cross_recall = np.mean(recall)\n",
    "cross_precision = np.mean(precision)\n",
    "\n",
    "print(\"cross_recall:\",cross_recall)\n",
    "print(\"cross_precision:\",cross_precision)\n",
    "\n",
    "'''\n",
    "cross_recall: 0.6257425742574257\n",
    "cross_precision: 0.6215951755262223\n",
    "'''"
   ]
  },
  {
   "cell_type": "code",
   "execution_count": null,
   "metadata": {
    "colab": {},
    "colab_type": "code",
    "id": "O0vNlLJb6Wx5"
   },
   "outputs": [],
   "source": []
  }
 ],
 "metadata": {
  "accelerator": "TPU",
  "colab": {
   "collapsed_sections": [],
   "name": "dosenbach.ipynb",
   "provenance": [],
   "version": "0.3.2"
  },
  "kernelspec": {
   "display_name": "Python 3 (ipykernel)",
   "language": "python",
   "name": "python3"
  },
  "language_info": {
   "codemirror_mode": {
    "name": "ipython",
    "version": 3
   },
   "file_extension": ".py",
   "mimetype": "text/x-python",
   "name": "python",
   "nbconvert_exporter": "python",
   "pygments_lexer": "ipython3",
   "version": "3.11.5"
  }
 },
 "nbformat": 4,
 "nbformat_minor": 4
}
